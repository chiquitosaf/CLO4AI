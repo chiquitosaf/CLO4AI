{
 "cells": [
  {
   "cell_type": "markdown",
   "id": "0998ab93",
   "metadata": {},
   "source": [
    "# <center>Project-Based Assignment CLO-4</center>"
   ]
  },
  {
   "cell_type": "markdown",
   "id": "b9dd2c3d",
   "metadata": {},
   "source": [
    "<b>Topik</b>\n",
    "Implementation of Ensemble Method on Classification Task\n",
    "\n",
    "<b>Anggota Kelompok</b>\n",
    "1. Chiquito Shaduq Aurick Fulvian - 1301210284\n",
    "2. Nama - NIM\n",
    "3. Nama - NIM"
   ]
  },
  {
   "cell_type": "markdown",
   "id": "f67c8e8d",
   "metadata": {},
   "source": [
    "## <b>Latar Belakang</b>\n",
    "<p>Proyek ini dibuat untuk memenuhi tugas Project Based Assignment CLO-4 mata kuliah Pembelajaran Mesin prodi S1 Informatika Fakultas Informatika Telkom University Bandung.</p>\n",
    "<p>Dataset yang digunakan untuk proyek ini adalah dataset \"Rice (Cammeo and Osmancik)\" yang didapatkan di tautan berikut,\n",
    "https://archive.ics.uci.edu/dataset/545/rice+cammeo+and+osmancik</p>\n",
    "<p>Jenis prediksi yang dilakukan pada dataset ini adalah prediksi <b> klasifikasi </b> dengan menggunakan model .....</p>"
   ]
  },
  {
   "cell_type": "markdown",
   "id": "5557068c",
   "metadata": {},
   "source": [
    "##### <b> Deskripsi Dataset </b>\n",
    "A total of 3810 rice grain's images were taken for the two species, processed and feature inferences were made. 7 morphological features were obtained for each grain of rice.\n",
    "\n",
    "##### <b> Informasi Tambahan </b>\n",
    "Among  the certified rice grown in TURKEY,  the  Osmancik species, which has a large planting area since 1997 and the Cammeo species grown since 2014 have been selected for the study.  When  looking  at  the  general  characteristics  of  Osmancik species, they have a wide, long, glassy and dull appearance.  When looking at the general characteristics of the Cammeo species, they have wide and long, glassy and dull in appearance.  A total of 3810 rice grain's images were taken for the two species, processed and feature inferences were made. 7 morphological features were obtained for each grain of rice. \n",
    "\n",
    "Missing value : tidak ada\n",
    "\n",
    "Terdapat 7 Fitur dan 3810 Record\n",
    "\n",
    "Informasi Variabel\n",
    "- Area - Returns the number of pixels within the boundaries of the rice grain : Integer\n",
    "- Perimeter - Calculates the circumference by calculating the distance between pixels around the boundaries of the rice grain: Continuous\n",
    "- Major_Axis_Length - The longest line that can be drawn on the rice grain, i.e. the main axis distance, gives : Continuous\n",
    "- Minor_Axis_Length - The shortest line that can be drawn on the rice grain, i.e. the small axis distance, gives : Continuous\n",
    "- Eccentricity - It measures how round the ellipse, which has the same moments as the rice grain, is : Continous\n",
    "- Convex_Area - Returns the pixel count of the smallest convex shell of the region formed by the rice grain : Integer\n",
    "- Extent - Returns the ratio of the region formed by the rice grain to the bounding box : Continuous\n",
    "- Class - Cammeo and Osmancik : Binary (<b> Target </b>)"
   ]
  },
  {
   "cell_type": "markdown",
   "id": "4c1892ec",
   "metadata": {},
   "source": [
    "## <b>Data Preprocessing</b>"
   ]
  },
  {
   "cell_type": "code",
   "execution_count": null,
   "metadata": {},
   "outputs": [],
   "source": [
    "import pandas as pd\n",
    "from ucimlrepo import fetch_ucirepo "
   ]
  },
  {
   "cell_type": "code",
   "execution_count": 2,
   "id": "bd1c9727",
   "metadata": {},
   "outputs": [],
   "source": [
    "# fetch dataset \n",
    "rice_cammeo_and_osmancik = fetch_ucirepo(id=545)"
   ]
  },
  {
   "cell_type": "code",
   "execution_count": 3,
   "id": "f3f5fd2b",
   "metadata": {},
   "outputs": [
    {
     "data": {
      "text/plain": [
       "{'data': {'ids': None,\n",
       "  'features':        Area   Perimeter  Major_Axis_Length  Minor_Axis_Length  Eccentricity  \\\n",
       "  0     15231  525.578979         229.749878          85.093788      0.928882   \n",
       "  1     14656  494.311005         206.020065          91.730972      0.895405   \n",
       "  2     14634  501.122009         214.106781          87.768288      0.912118   \n",
       "  3     13176  458.342987         193.337387          87.448395      0.891861   \n",
       "  4     14688  507.166992         211.743378          89.312454      0.906691   \n",
       "  ...     ...         ...                ...                ...           ...   \n",
       "  3805  11441  415.858002         170.486771          85.756592      0.864280   \n",
       "  3806  11625  421.390015         167.714798          89.462570      0.845850   \n",
       "  3807  12437  442.498993         183.572922          86.801979      0.881144   \n",
       "  3808   9882  392.296997         161.193985          78.210480      0.874406   \n",
       "  3809  11434  404.709992         161.079269          90.868195      0.825692   \n",
       "  \n",
       "        Convex_Area    Extent  \n",
       "  0           15617  0.572896  \n",
       "  1           15072  0.615436  \n",
       "  2           14954  0.693259  \n",
       "  3           13368  0.640669  \n",
       "  4           15262  0.646024  \n",
       "  ...           ...       ...  \n",
       "  3805        11628  0.681012  \n",
       "  3806        11904  0.694279  \n",
       "  3807        12645  0.626739  \n",
       "  3808        10097  0.659064  \n",
       "  3809        11591  0.802949  \n",
       "  \n",
       "  [3810 rows x 7 columns],\n",
       "  'targets':          Class\n",
       "  0       Cammeo\n",
       "  1       Cammeo\n",
       "  2       Cammeo\n",
       "  3       Cammeo\n",
       "  4       Cammeo\n",
       "  ...        ...\n",
       "  3805  Osmancik\n",
       "  3806  Osmancik\n",
       "  3807  Osmancik\n",
       "  3808  Osmancik\n",
       "  3809  Osmancik\n",
       "  \n",
       "  [3810 rows x 1 columns],\n",
       "  'original':        Area   Perimeter  Major_Axis_Length  Minor_Axis_Length  Eccentricity  \\\n",
       "  0     15231  525.578979         229.749878          85.093788      0.928882   \n",
       "  1     14656  494.311005         206.020065          91.730972      0.895405   \n",
       "  2     14634  501.122009         214.106781          87.768288      0.912118   \n",
       "  3     13176  458.342987         193.337387          87.448395      0.891861   \n",
       "  4     14688  507.166992         211.743378          89.312454      0.906691   \n",
       "  ...     ...         ...                ...                ...           ...   \n",
       "  3805  11441  415.858002         170.486771          85.756592      0.864280   \n",
       "  3806  11625  421.390015         167.714798          89.462570      0.845850   \n",
       "  3807  12437  442.498993         183.572922          86.801979      0.881144   \n",
       "  3808   9882  392.296997         161.193985          78.210480      0.874406   \n",
       "  3809  11434  404.709992         161.079269          90.868195      0.825692   \n",
       "  \n",
       "        Convex_Area    Extent     Class  \n",
       "  0           15617  0.572896    Cammeo  \n",
       "  1           15072  0.615436    Cammeo  \n",
       "  2           14954  0.693259    Cammeo  \n",
       "  3           13368  0.640669    Cammeo  \n",
       "  4           15262  0.646024    Cammeo  \n",
       "  ...           ...       ...       ...  \n",
       "  3805        11628  0.681012  Osmancik  \n",
       "  3806        11904  0.694279  Osmancik  \n",
       "  3807        12645  0.626739  Osmancik  \n",
       "  3808        10097  0.659064  Osmancik  \n",
       "  3809        11591  0.802949  Osmancik  \n",
       "  \n",
       "  [3810 rows x 8 columns],\n",
       "  'headers': Index(['Area', 'Perimeter', 'Major_Axis_Length', 'Minor_Axis_Length',\n",
       "         'Eccentricity', 'Convex_Area', 'Extent', 'Class'],\n",
       "        dtype='object')},\n",
       " 'metadata': {'uci_id': 545,\n",
       "  'name': 'Rice (Cammeo and Osmancik)',\n",
       "  'repository_url': 'https://archive.ics.uci.edu/dataset/545/rice+cammeo+and+osmancik',\n",
       "  'data_url': 'https://archive.ics.uci.edu/static/public/545/data.csv',\n",
       "  'abstract': \"A total of 3810 rice grain's images were taken for the two species, processed and feature inferences were made. 7 morphological features were obtained for each grain of rice.\",\n",
       "  'area': 'Biology',\n",
       "  'tasks': ['Classification'],\n",
       "  'characteristics': ['Multivariate'],\n",
       "  'num_instances': 3810,\n",
       "  'num_features': 7,\n",
       "  'feature_types': ['Real'],\n",
       "  'demographics': [],\n",
       "  'target_col': ['Class'],\n",
       "  'index_col': None,\n",
       "  'has_missing_values': 'no',\n",
       "  'missing_values_symbol': None,\n",
       "  'year_of_dataset_creation': 2019,\n",
       "  'last_updated': 'Fri Nov 03 2023',\n",
       "  'dataset_doi': '10.24432/C5MW4Z',\n",
       "  'creators': [],\n",
       "  'intro_paper': {'title': 'Classification of Rice Varieties Using Artificial Intelligence Methods',\n",
       "   'authors': 'Ilkay Cinar, M. Koklu',\n",
       "   'published_in': 'International Journal of Intelligent Systems and Applications in Engineering',\n",
       "   'year': 2019,\n",
       "   'url': 'https://www.semanticscholar.org/paper/4e508bb906c8fdc04ead6f20bd8918fcb3605d1c',\n",
       "   'doi': '10.18201/ijisae.2019355381'},\n",
       "  'additional_info': {'summary': \"Among  the certified rice grown in TURKEY,  the  Osmancik species, which has a large planting area since 1997 and the Cammeo species grown since 2014 have been selected for the study.  When  looking  at  the  general  characteristics  of  Osmancik species, they have a wide, long, glassy and dull appearance.  When looking at the general characteristics of the Cammeo species, they have wide and long, glassy and dull in appearance.  A total of 3810 rice grain's images were taken for the two species, processed and feature inferences were made. 7 morphological features were obtained for each grain of rice. \",\n",
       "   'purpose': None,\n",
       "   'funded_by': None,\n",
       "   'instances_represent': None,\n",
       "   'recommended_data_splits': None,\n",
       "   'sensitive_data': None,\n",
       "   'preprocessing_description': None,\n",
       "   'variable_info': '1.) Area: Returns  the  number  of  pixels  within  the boundaries of the rice grain.\\r\\n2.) Perimeter: Calculates the circumference by calculating  the  distance  between  pixels around the boundaries of the rice grain.\\r\\n3.) Major Axis Length: The longest line that can be drawn on the rice  grain,  i.e.  the  main  axis  distance, gives.\\r\\n4.) Minor Axis Length: The shortest line that can be drawn on the rice  grain,  i.e.  the  small  axis  distance, gives.\\r\\n5.) Eccentricity: It measures how round the ellipse, which has  the  same  moments  as  the  rice  grain, is.\\r\\n6.) Convex Area: Returns  the  pixel  count  of  the  smallest convex shell of the region formed by the rice grain.\\r\\n7.) Extent: Returns the ratio of the regionformed by the rice grain to the bounding box pixels.\\r\\n8.) Class: Cammeo and Osmancik rices',\n",
       "   'citation': None}},\n",
       " 'variables':                 name     role        type demographic  \\\n",
       " 0               Area  Feature     Integer        None   \n",
       " 1          Perimeter  Feature  Continuous        None   \n",
       " 2  Major_Axis_Length  Feature  Continuous        None   \n",
       " 3  Minor_Axis_Length  Feature  Continuous        None   \n",
       " 4       Eccentricity  Feature  Continuous        None   \n",
       " 5        Convex_Area  Feature     Integer        None   \n",
       " 6             Extent  Feature  Continuous        None   \n",
       " 7              Class   Target      Binary        None   \n",
       " \n",
       "                                          description units missing_values  \n",
       " 0  Returns the number of pixels within the bounda...    px             no  \n",
       " 1  Calculates the circumference by calculating th...    px             no  \n",
       " 2  The longest line that can be drawn on the rice...  None             no  \n",
       " 3  The shortest line that can be drawn on the ric...  None             no  \n",
       " 4  It measures how round the ellipse, which has t...  None             no  \n",
       " 5  Returns the pixel count of the smallest convex...  None             no  \n",
       " 6  Returns the ratio of the region formed by the ...  None             no  \n",
       " 7                                Cammeo and Osmancik  None             no  }"
      ]
     },
     "execution_count": 3,
     "metadata": {},
     "output_type": "execute_result"
    }
   ],
   "source": [
    "rice_cammeo_and_osmancik"
   ]
  },
  {
   "cell_type": "code",
   "execution_count": 12,
   "metadata": {},
   "outputs": [
    {
     "data": {
      "text/html": [
       "<div>\n",
       "<style scoped>\n",
       "    .dataframe tbody tr th:only-of-type {\n",
       "        vertical-align: middle;\n",
       "    }\n",
       "\n",
       "    .dataframe tbody tr th {\n",
       "        vertical-align: top;\n",
       "    }\n",
       "\n",
       "    .dataframe thead th {\n",
       "        text-align: right;\n",
       "    }\n",
       "</style>\n",
       "<table border=\"1\" class=\"dataframe\">\n",
       "  <thead>\n",
       "    <tr style=\"text-align: right;\">\n",
       "      <th></th>\n",
       "      <th>Area</th>\n",
       "      <th>Perimeter</th>\n",
       "      <th>Major_Axis_Length</th>\n",
       "      <th>Minor_Axis_Length</th>\n",
       "      <th>Eccentricity</th>\n",
       "      <th>Convex_Area</th>\n",
       "      <th>Extent</th>\n",
       "      <th>Class</th>\n",
       "    </tr>\n",
       "  </thead>\n",
       "  <tbody>\n",
       "    <tr>\n",
       "      <th>0</th>\n",
       "      <td>15231</td>\n",
       "      <td>525.578979</td>\n",
       "      <td>229.749878</td>\n",
       "      <td>85.093788</td>\n",
       "      <td>0.928882</td>\n",
       "      <td>15617</td>\n",
       "      <td>0.572896</td>\n",
       "      <td>None</td>\n",
       "    </tr>\n",
       "    <tr>\n",
       "      <th>1</th>\n",
       "      <td>14656</td>\n",
       "      <td>494.311005</td>\n",
       "      <td>206.020065</td>\n",
       "      <td>91.730972</td>\n",
       "      <td>0.895405</td>\n",
       "      <td>15072</td>\n",
       "      <td>0.615436</td>\n",
       "      <td>None</td>\n",
       "    </tr>\n",
       "    <tr>\n",
       "      <th>2</th>\n",
       "      <td>14634</td>\n",
       "      <td>501.122009</td>\n",
       "      <td>214.106781</td>\n",
       "      <td>87.768288</td>\n",
       "      <td>0.912118</td>\n",
       "      <td>14954</td>\n",
       "      <td>0.693259</td>\n",
       "      <td>None</td>\n",
       "    </tr>\n",
       "    <tr>\n",
       "      <th>3</th>\n",
       "      <td>13176</td>\n",
       "      <td>458.342987</td>\n",
       "      <td>193.337387</td>\n",
       "      <td>87.448395</td>\n",
       "      <td>0.891861</td>\n",
       "      <td>13368</td>\n",
       "      <td>0.640669</td>\n",
       "      <td>None</td>\n",
       "    </tr>\n",
       "    <tr>\n",
       "      <th>4</th>\n",
       "      <td>14688</td>\n",
       "      <td>507.166992</td>\n",
       "      <td>211.743378</td>\n",
       "      <td>89.312454</td>\n",
       "      <td>0.906691</td>\n",
       "      <td>15262</td>\n",
       "      <td>0.646024</td>\n",
       "      <td>None</td>\n",
       "    </tr>\n",
       "  </tbody>\n",
       "</table>\n",
       "</div>"
      ],
      "text/plain": [
       "    Area   Perimeter  Major_Axis_Length  Minor_Axis_Length  Eccentricity  \\\n",
       "0  15231  525.578979         229.749878          85.093788      0.928882   \n",
       "1  14656  494.311005         206.020065          91.730972      0.895405   \n",
       "2  14634  501.122009         214.106781          87.768288      0.912118   \n",
       "3  13176  458.342987         193.337387          87.448395      0.891861   \n",
       "4  14688  507.166992         211.743378          89.312454      0.906691   \n",
       "\n",
       "   Convex_Area    Extent Class  \n",
       "0        15617  0.572896  None  \n",
       "1        15072  0.615436  None  \n",
       "2        14954  0.693259  None  \n",
       "3        13368  0.640669  None  \n",
       "4        15262  0.646024  None  "
      ]
     },
     "execution_count": 12,
     "metadata": {},
     "output_type": "execute_result"
    }
   ],
   "source": [
    "df = rice_cammeo_and_osmancik.data.features\n",
    "df[\"Class\"] = rice_cammeo_and_osmancik.target\n",
    "df.head()"
   ]
  },
  {
   "cell_type": "code",
   "execution_count": null,
   "id": "f7769541",
   "metadata": {},
   "outputs": [],
   "source": [
    "# Exploration Data Analysis\n",
    "# Write your code here\n",
    "\n"
   ]
  },
  {
   "cell_type": "markdown",
   "id": "691b437e",
   "metadata": {},
   "source": [
    "#### Ringkasan Metode\n",
    "Silahkan double click cell ini dan tulis ringkasan metode!"
   ]
  },
  {
   "cell_type": "code",
   "execution_count": null,
   "id": "348c59c4",
   "metadata": {},
   "outputs": [],
   "source": [
    "# Baseline Model\n",
    "# Write your code here\n",
    "\n"
   ]
  },
  {
   "cell_type": "code",
   "execution_count": null,
   "id": "27ae8626",
   "metadata": {},
   "outputs": [],
   "source": [
    "# Model Exploration (at least 3 scheme)\n",
    "# Write your code here\n",
    "\n"
   ]
  },
  {
   "cell_type": "code",
   "execution_count": null,
   "id": "db175b05",
   "metadata": {},
   "outputs": [],
   "source": [
    "# Evaluation\n",
    "# Write your code here\n",
    "\n"
   ]
  },
  {
   "cell_type": "markdown",
   "id": "c5526cf7",
   "metadata": {},
   "source": [
    "#### Hasil dan Analisis\n",
    "Silahkan double click cell ini dan tulis hasil dan analisis!"
   ]
  },
  {
   "cell_type": "markdown",
   "id": "8a255fe5",
   "metadata": {},
   "source": [
    "#### Kesimpulan\n",
    "Silahkan double click cell ini dan tulis kesimpulan!"
   ]
  }
 ],
 "metadata": {
  "kernelspec": {
   "display_name": "Python 3 (ipykernel)",
   "language": "python",
   "name": "python3"
  },
  "language_info": {
   "codemirror_mode": {
    "name": "ipython",
    "version": 3
   },
   "file_extension": ".py",
   "mimetype": "text/x-python",
   "name": "python",
   "nbconvert_exporter": "python",
   "pygments_lexer": "ipython3",
   "version": "3.11.2"
  }
 },
 "nbformat": 4,
 "nbformat_minor": 5
}
